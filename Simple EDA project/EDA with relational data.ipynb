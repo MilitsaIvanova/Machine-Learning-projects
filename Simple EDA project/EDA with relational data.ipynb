{
 "cells": [
  {
   "cell_type": "markdown",
   "id": "b5770faa-fe7e-4774-b15b-6963e5d3fcbc",
   "metadata": {
    "tags": []
   },
   "source": [
    "# Relational data Exploratory Analysis"
   ]
  },
  {
   "cell_type": "markdown",
   "id": "948289f1-105f-4ab8-8c24-5d9b2c8eabc2",
   "metadata": {},
   "source": [
    "In this Exploratory Data Analysis (EDA) project, the primary objective is to hone and demonstrate proficiency in data manipulation techniques while extracting valuable insights from a relational database. By working with structured data spread across multiple related tables, this project provides an opportunity to practice key skills such as data filtering, merging, aggregation, and analysis. The ultimate goal is to transform raw data into meaningful information, uncovering trends, patterns, and relationships that can inform decision-making and provide deeper understanding of the underlying data. \n",
    "\n",
    "There are 12 tasks in total and each task aims to be more difficult than the previous one."
   ]
  },
  {
   "cell_type": "code",
   "execution_count": 3,
   "id": "58852141-0fc4-4eec-bef6-ce1d939a5014",
   "metadata": {
    "tags": []
   },
   "outputs": [],
   "source": [
    "# Load libraries\n",
    "import pandas as pd\n",
    "import numpy as np\n",
    "import os"
   ]
  },
  {
   "cell_type": "code",
   "execution_count": 6,
   "id": "e12e3b67-4260-4aa1-8ddc-5165a897685e",
   "metadata": {
    "tags": []
   },
   "outputs": [
    {
     "data": {
      "text/plain": [
       "['.ipynb_checkpoints',\n",
       " 'actor.csv',\n",
       " 'address.csv',\n",
       " 'category.csv',\n",
       " 'city.csv',\n",
       " 'country.csv',\n",
       " 'customer.csv',\n",
       " 'departments.csv',\n",
       " 'EDA with relational data.ipynb',\n",
       " 'employee.csv',\n",
       " 'employees.csv',\n",
       " 'film.csv',\n",
       " 'film_actor.csv',\n",
       " 'film_category.csv',\n",
       " 'inventory.csv',\n",
       " 'payment.csv',\n",
       " 'rental.csv',\n",
       " 'staff.csv',\n",
       " 'store.csv']"
      ]
     },
     "execution_count": 6,
     "metadata": {},
     "output_type": "execute_result"
    }
   ],
   "source": [
    "# Load the tables\n",
    "directory=r'C:\\Users\\Militsa\\Documents\\softuni\\Projects\\dataset'\n",
    "\n",
    "files=os.listdir(directory)\n",
    "files"
   ]
  },
  {
   "cell_type": "code",
   "execution_count": 78,
   "id": "0c608e21-868c-45ed-bc4b-30b52ff76692",
   "metadata": {
    "tags": []
   },
   "outputs": [],
   "source": [
    "actor=pd.read_csv('actor.csv')\n",
    "address=pd.read_csv('address.csv')\n",
    "category=pd.read_csv('category.csv')\n",
    "city=pd.read_csv('city.csv')\n",
    "country=pd.read_csv('country.csv')\n",
    "customer=pd.read_csv('customer.csv')\n",
    "departments=pd.read_csv('departments.csv')\n",
    "film=pd.read_csv('film.csv')\n",
    "film_actor=pd.read_csv('film_actor.csv')\n",
    "film_category=pd.read_csv('film_category.csv')\n",
    "inventory=pd.read_csv('inventory.csv')\n",
    "payment=pd.read_csv('payment.csv')\n",
    "rental=pd.read_csv('rental.csv')\n",
    "staff=pd.read_csv('staff.csv')\n",
    "store=pd.read_csv('store.csv')\n"
   ]
  },
  {
   "cell_type": "markdown",
   "id": "a37c2e62-4413-4334-b63a-c2a251512475",
   "metadata": {},
   "source": [
    "#### Task: Create a list of all the different (distinct) replacement costs of the films. What's the lowest replacement cost?\n"
   ]
  },
  {
   "cell_type": "code",
   "execution_count": 79,
   "id": "c40334de-e193-43a1-a3a4-9001cf0fc14e",
   "metadata": {
    "tags": []
   },
   "outputs": [
    {
     "data": {
      "text/plain": [
       "[9.99,\n",
       " 10.99,\n",
       " 11.99,\n",
       " 12.99,\n",
       " 13.99,\n",
       " 14.99,\n",
       " 15.99,\n",
       " 16.99,\n",
       " 17.99,\n",
       " 18.99,\n",
       " 19.99,\n",
       " 20.99,\n",
       " 21.99,\n",
       " 22.99,\n",
       " 23.99,\n",
       " 24.99,\n",
       " 25.99,\n",
       " 26.99,\n",
       " 27.99,\n",
       " 28.99,\n",
       " 29.99]"
      ]
     },
     "execution_count": 79,
     "metadata": {},
     "output_type": "execute_result"
    }
   ],
   "source": [
    "#The replacement cost values are stored in the film table\n",
    "sorted_costs=sorted(film['replacement_cost'].unique())\n",
    "sorted_costs #9.99"
   ]
  },
  {
   "cell_type": "markdown",
   "id": "cb309a50-cc9a-4296-8aef-901dac41def2",
   "metadata": {},
   "source": [
    "#### Task: Write a code that gives an overview of how many films have replacements costs in the following cost ranges: low: 9.99 - 19.99 medium: 20.00 - 24.99 high: 25.00 - 29.99. Question: How many films have a replacement cost in the \"low\" group?"
   ]
  },
  {
   "cell_type": "code",
   "execution_count": 80,
   "id": "e4cd2d04-8521-4b25-be0e-0bc25adc42a4",
   "metadata": {
    "tags": []
   },
   "outputs": [
    {
     "data": {
      "text/plain": [
       "0         low\n",
       "1         low\n",
       "2        high\n",
       "3      medium\n",
       "4         low\n",
       "        ...  \n",
       "995       low\n",
       "996       low\n",
       "997       low\n",
       "998       low\n",
       "999       low\n",
       "Name: replacement_cost_cat, Length: 1000, dtype: object"
      ]
     },
     "execution_count": 80,
     "metadata": {},
     "output_type": "execute_result"
    }
   ],
   "source": [
    "film['replacement_cost_cat']=film['replacement_cost'].apply(lambda x: 'low' if x<=19.99 else ('medium' if x<=24.99 else 'high'))\n",
    "film['replacement_cost_cat']"
   ]
  },
  {
   "cell_type": "code",
   "execution_count": 81,
   "id": "b8c28c6e-c719-4155-9442-772a88b51b3d",
   "metadata": {
    "tags": []
   },
   "outputs": [
    {
     "data": {
      "text/html": [
       "<div>\n",
       "<style scoped>\n",
       "    .dataframe tbody tr th:only-of-type {\n",
       "        vertical-align: middle;\n",
       "    }\n",
       "\n",
       "    .dataframe tbody tr th {\n",
       "        vertical-align: top;\n",
       "    }\n",
       "\n",
       "    .dataframe thead th {\n",
       "        text-align: right;\n",
       "    }\n",
       "</style>\n",
       "<table border=\"1\" class=\"dataframe\">\n",
       "  <thead>\n",
       "    <tr style=\"text-align: right;\">\n",
       "      <th></th>\n",
       "      <th>replacement_cost_cat</th>\n",
       "      <th>CostGroups</th>\n",
       "    </tr>\n",
       "  </thead>\n",
       "  <tbody>\n",
       "    <tr>\n",
       "      <th>0</th>\n",
       "      <td>high</td>\n",
       "      <td>236</td>\n",
       "    </tr>\n",
       "    <tr>\n",
       "      <th>1</th>\n",
       "      <td>low</td>\n",
       "      <td>514</td>\n",
       "    </tr>\n",
       "    <tr>\n",
       "      <th>2</th>\n",
       "      <td>medium</td>\n",
       "      <td>250</td>\n",
       "    </tr>\n",
       "  </tbody>\n",
       "</table>\n",
       "</div>"
      ],
      "text/plain": [
       "  replacement_cost_cat  CostGroups\n",
       "0                 high         236\n",
       "1                  low         514\n",
       "2               medium         250"
      ]
     },
     "execution_count": 81,
     "metadata": {},
     "output_type": "execute_result"
    }
   ],
   "source": [
    "film_cat_count=film.groupby('replacement_cost_cat').size().reset_index(name='CostGroups')\n",
    "film_cat_count"
   ]
  },
  {
   "cell_type": "markdown",
   "id": "dc292fb1-77dd-4fb1-8379-0be627e2ca96",
   "metadata": {},
   "source": [
    "#### Task: Create a list of the film titles including their title, length, and category name ordered descendingly by length. Filter the results to only the movies in the category 'Drama' or 'Sports'. Question: In which category is the longest film and how long is it?"
   ]
  },
  {
   "cell_type": "code",
   "execution_count": 82,
   "id": "27799eea-2fd6-4757-8d0c-1ef150bdd9a2",
   "metadata": {
    "tags": []
   },
   "outputs": [],
   "source": [
    "film_merged=pd.merge(film, film_category[['category_id','film_id']],on='film_id')\n",
    "film_merged=pd.merge(film_merged,category[['name','category_id']],on='category_id')"
   ]
  },
  {
   "cell_type": "code",
   "execution_count": 83,
   "id": "d7429767-5494-416d-9fd1-91d45f02cea6",
   "metadata": {
    "tags": []
   },
   "outputs": [
    {
     "data": {
      "text/html": [
       "<div>\n",
       "<style scoped>\n",
       "    .dataframe tbody tr th:only-of-type {\n",
       "        vertical-align: middle;\n",
       "    }\n",
       "\n",
       "    .dataframe tbody tr th {\n",
       "        vertical-align: top;\n",
       "    }\n",
       "\n",
       "    .dataframe thead th {\n",
       "        text-align: right;\n",
       "    }\n",
       "</style>\n",
       "<table border=\"1\" class=\"dataframe\">\n",
       "  <thead>\n",
       "    <tr style=\"text-align: right;\">\n",
       "      <th></th>\n",
       "      <th>title</th>\n",
       "      <th>length</th>\n",
       "      <th>name</th>\n",
       "    </tr>\n",
       "  </thead>\n",
       "  <tbody>\n",
       "    <tr>\n",
       "      <th>393</th>\n",
       "      <td>SMOOCHY CONTROL</td>\n",
       "      <td>184</td>\n",
       "      <td>Sports</td>\n",
       "    </tr>\n",
       "    <tr>\n",
       "      <th>361</th>\n",
       "      <td>RECORDS ZORRO</td>\n",
       "      <td>182</td>\n",
       "      <td>Sports</td>\n",
       "    </tr>\n",
       "    <tr>\n",
       "      <th>371</th>\n",
       "      <td>STAR OPERATION</td>\n",
       "      <td>181</td>\n",
       "      <td>Sports</td>\n",
       "    </tr>\n",
       "    <tr>\n",
       "      <th>591</th>\n",
       "      <td>JACKET FRISCO</td>\n",
       "      <td>181</td>\n",
       "      <td>Drama</td>\n",
       "    </tr>\n",
       "    <tr>\n",
       "      <th>353</th>\n",
       "      <td>MUSSOLINI SPOILERS</td>\n",
       "      <td>180</td>\n",
       "      <td>Sports</td>\n",
       "    </tr>\n",
       "    <tr>\n",
       "      <th>...</th>\n",
       "      <td>...</td>\n",
       "      <td>...</td>\n",
       "      <td>...</td>\n",
       "    </tr>\n",
       "    <tr>\n",
       "      <th>330</th>\n",
       "      <td>CRANES RESERVOIR</td>\n",
       "      <td>57</td>\n",
       "      <td>Sports</td>\n",
       "    </tr>\n",
       "    <tr>\n",
       "      <th>368</th>\n",
       "      <td>SENSE GREEK</td>\n",
       "      <td>54</td>\n",
       "      <td>Sports</td>\n",
       "    </tr>\n",
       "    <tr>\n",
       "      <th>630</th>\n",
       "      <td>NOTTING SPEAKEASY</td>\n",
       "      <td>48</td>\n",
       "      <td>Drama</td>\n",
       "    </tr>\n",
       "    <tr>\n",
       "      <th>332</th>\n",
       "      <td>DIVORCE SHINING</td>\n",
       "      <td>47</td>\n",
       "      <td>Sports</td>\n",
       "    </tr>\n",
       "    <tr>\n",
       "      <th>627</th>\n",
       "      <td>KWAI HOMEWARD</td>\n",
       "      <td>46</td>\n",
       "      <td>Drama</td>\n",
       "    </tr>\n",
       "  </tbody>\n",
       "</table>\n",
       "<p>136 rows × 3 columns</p>\n",
       "</div>"
      ],
      "text/plain": [
       "                  title  length    name\n",
       "393     SMOOCHY CONTROL     184  Sports\n",
       "361       RECORDS ZORRO     182  Sports\n",
       "371      STAR OPERATION     181  Sports\n",
       "591       JACKET FRISCO     181   Drama\n",
       "353  MUSSOLINI SPOILERS     180  Sports\n",
       "..                  ...     ...     ...\n",
       "330    CRANES RESERVOIR      57  Sports\n",
       "368         SENSE GREEK      54  Sports\n",
       "630   NOTTING SPEAKEASY      48   Drama\n",
       "332     DIVORCE SHINING      47  Sports\n",
       "627       KWAI HOMEWARD      46   Drama\n",
       "\n",
       "[136 rows x 3 columns]"
      ]
     },
     "execution_count": 83,
     "metadata": {},
     "output_type": "execute_result"
    }
   ],
   "source": [
    "film_merged[(film_merged['name']=='Drama')| (film_merged['name']=='Sports')][['title','length','name']].sort_values('length',ascending=False)"
   ]
  },
  {
   "cell_type": "markdown",
   "id": "8abfa03d-9b30-4011-ba04-f7e24eb44a4b",
   "metadata": {},
   "source": [
    "#### Task: Create an overview of how many movies (titles) there are in each category (name).Question: Which category (name) is the most common among the films?"
   ]
  },
  {
   "cell_type": "code",
   "execution_count": 84,
   "id": "6d701303-0aa2-4086-b7d4-34a0d9592f86",
   "metadata": {
    "tags": []
   },
   "outputs": [
    {
     "data": {
      "text/plain": [
       "name\n",
       "Sports         74\n",
       "Foreign        73\n",
       "Family         69\n",
       "Documentary    68\n",
       "Animation      66\n",
       "Action         64\n",
       "New            63\n",
       "Drama          62\n",
       "Games          61\n",
       "Sci-Fi         61\n",
       "Children       60\n",
       "Comedy         58\n",
       "Classics       57\n",
       "Travel         57\n",
       "Horror         56\n",
       "Music          51\n",
       "dtype: int64"
      ]
     },
     "execution_count": 84,
     "metadata": {},
     "output_type": "execute_result"
    }
   ],
   "source": [
    "film_merged_count=film_merged.groupby('name').size()\n",
    "film_merged_count.sort_values(ascending=False)"
   ]
  },
  {
   "cell_type": "markdown",
   "id": "51c9ccfd-b46d-4b51-ade8-23d5abd634d5",
   "metadata": {},
   "source": [
    "#### Task: Create an overview of the actors' first and last names and in how many movies they appear in. Question: Which actor is part of most movies??"
   ]
  },
  {
   "cell_type": "code",
   "execution_count": 85,
   "id": "609e75f7-45a9-43f7-ac22-4c4d815ef75f",
   "metadata": {
    "tags": []
   },
   "outputs": [
    {
     "data": {
      "text/html": [
       "<div>\n",
       "<style scoped>\n",
       "    .dataframe tbody tr th:only-of-type {\n",
       "        vertical-align: middle;\n",
       "    }\n",
       "\n",
       "    .dataframe tbody tr th {\n",
       "        vertical-align: top;\n",
       "    }\n",
       "\n",
       "    .dataframe thead th {\n",
       "        text-align: right;\n",
       "    }\n",
       "</style>\n",
       "<table border=\"1\" class=\"dataframe\">\n",
       "  <thead>\n",
       "    <tr style=\"text-align: right;\">\n",
       "      <th></th>\n",
       "      <th>actor_id</th>\n",
       "      <th>first_name</th>\n",
       "      <th>last_name</th>\n",
       "      <th>last_update</th>\n",
       "    </tr>\n",
       "  </thead>\n",
       "  <tbody>\n",
       "    <tr>\n",
       "      <th>0</th>\n",
       "      <td>1</td>\n",
       "      <td>PENELOPE</td>\n",
       "      <td>GUINESS</td>\n",
       "      <td>2020-02-15 10:34:33+01</td>\n",
       "    </tr>\n",
       "    <tr>\n",
       "      <th>1</th>\n",
       "      <td>2</td>\n",
       "      <td>NICK</td>\n",
       "      <td>WAHLBERG</td>\n",
       "      <td>2020-02-15 10:34:33+01</td>\n",
       "    </tr>\n",
       "    <tr>\n",
       "      <th>2</th>\n",
       "      <td>3</td>\n",
       "      <td>ED</td>\n",
       "      <td>CHASE</td>\n",
       "      <td>2020-02-15 10:34:33+01</td>\n",
       "    </tr>\n",
       "    <tr>\n",
       "      <th>3</th>\n",
       "      <td>4</td>\n",
       "      <td>JENNIFER</td>\n",
       "      <td>DAVIS</td>\n",
       "      <td>2020-02-15 10:34:33+01</td>\n",
       "    </tr>\n",
       "    <tr>\n",
       "      <th>4</th>\n",
       "      <td>5</td>\n",
       "      <td>JOHNNY</td>\n",
       "      <td>LOLLOBRIGIDA</td>\n",
       "      <td>2020-02-15 10:34:33+01</td>\n",
       "    </tr>\n",
       "  </tbody>\n",
       "</table>\n",
       "</div>"
      ],
      "text/plain": [
       "   actor_id first_name     last_name             last_update\n",
       "0         1   PENELOPE       GUINESS  2020-02-15 10:34:33+01\n",
       "1         2       NICK      WAHLBERG  2020-02-15 10:34:33+01\n",
       "2         3         ED         CHASE  2020-02-15 10:34:33+01\n",
       "3         4   JENNIFER         DAVIS  2020-02-15 10:34:33+01\n",
       "4         5     JOHNNY  LOLLOBRIGIDA  2020-02-15 10:34:33+01"
      ]
     },
     "execution_count": 85,
     "metadata": {},
     "output_type": "execute_result"
    }
   ],
   "source": [
    "actor.head()"
   ]
  },
  {
   "cell_type": "code",
   "execution_count": 86,
   "id": "ecfdc6d0-badf-42a5-b469-22be6331f310",
   "metadata": {
    "tags": []
   },
   "outputs": [
    {
     "data": {
      "text/plain": [
       "first_name  last_name\n",
       "SUSAN       DAVIS        54\n",
       "GINA        DEGENERES    42\n",
       "WALTER      TORN         41\n",
       "MARY        KEITEL       40\n",
       "MATTHEW     CARREY       39\n",
       "                         ..\n",
       "SISSY       SOBIESKI     18\n",
       "JULIA       ZELLWEGER    16\n",
       "            FAWCETT      15\n",
       "JUDY        DEAN         15\n",
       "EMILY       DEE          14\n",
       "Length: 199, dtype: int64"
      ]
     },
     "execution_count": 86,
     "metadata": {},
     "output_type": "execute_result"
    }
   ],
   "source": [
    "actor_merged=pd.merge(film_actor,actor[['first_name','last_name','actor_id']],on='actor_id')\n",
    "actor_merged.groupby(['first_name','last_name']).size().sort_values(ascending=False)"
   ]
  },
  {
   "cell_type": "markdown",
   "id": "6377a684-e357-4750-bf99-ed781f3011e7",
   "metadata": {},
   "source": [
    "#### Task: Create an overview of the addresses that are not associated to any customer. Question: How many addresses are that?"
   ]
  },
  {
   "cell_type": "code",
   "execution_count": 87,
   "id": "5c9b70a7-1ef6-4e0b-935f-4d9283cd1bf9",
   "metadata": {
    "tags": []
   },
   "outputs": [
    {
     "name": "stdout",
     "output_type": "stream",
     "text": [
      "4\n",
      "   address_id               address  address2 district  city_id  postal_code  \\\n",
      "0           1     47 MySakila Drive       NaN  Alberta      300          NaN   \n",
      "1           2    28 MySQL Boulevard       NaN      QLD      576          NaN   \n",
      "2           3     23 Workhaven Lane       NaN  Alberta      300          NaN   \n",
      "3           4  1411 Lillydale Drive       NaN      QLD      576          NaN   \n",
      "\n",
      "          phone           last_update_x  customer_id  store_id first_name  \\\n",
      "0           NaN  2020-02-15 10:45:30+01          NaN       NaN        NaN   \n",
      "1           NaN  2020-02-15 10:45:30+01          NaN       NaN        NaN   \n",
      "2  1.403334e+10  2020-02-15 10:45:30+01          NaN       NaN        NaN   \n",
      "3  6.172236e+09  2020-02-15 10:45:30+01          NaN       NaN        NaN   \n",
      "\n",
      "  last_name email activebool create_date last_update_y  active initials  \n",
      "0       NaN   NaN        NaN         NaN           NaN     NaN      NaN  \n",
      "1       NaN   NaN        NaN         NaN           NaN     NaN      NaN  \n",
      "2       NaN   NaN        NaN         NaN           NaN     NaN      NaN  \n",
      "3       NaN   NaN        NaN         NaN           NaN     NaN      NaN  \n"
     ]
    }
   ],
   "source": [
    "#Perform a left join between the address DataFrame and the customer DataFrame on the address_id column.\n",
    "address_customer=pd.merge(address,customer,how='left',on='address_id')\n",
    "#Filter the results where the first_name column from the customer DataFrame is NaN (which indicates that there is no associated customer for that address).\n",
    "no_addresses=address_customer[address_customer['first_name'].isna()]\n",
    "#Count the number of such addresses.\n",
    "print(no_addresses.shape[0])\n",
    "print(no_addresses)"
   ]
  },
  {
   "cell_type": "markdown",
   "id": "ea52306d-e353-4885-bda0-09848ebf46f7",
   "metadata": {},
   "source": [
    "#### Task: Create the overview of the sales to determine from which city (we are interested in the city in which the customer lives, not where the store is) most sales occur. Question: What city is that and how much is the amount?\n"
   ]
  },
  {
   "cell_type": "code",
   "execution_count": 88,
   "id": "a6bbd76c-81a8-4657-b69b-a05e2f062d88",
   "metadata": {
    "tags": []
   },
   "outputs": [
    {
     "data": {
      "text/html": [
       "<div>\n",
       "<style scoped>\n",
       "    .dataframe tbody tr th:only-of-type {\n",
       "        vertical-align: middle;\n",
       "    }\n",
       "\n",
       "    .dataframe tbody tr th {\n",
       "        vertical-align: top;\n",
       "    }\n",
       "\n",
       "    .dataframe thead th {\n",
       "        text-align: right;\n",
       "    }\n",
       "</style>\n",
       "<table border=\"1\" class=\"dataframe\">\n",
       "  <thead>\n",
       "    <tr style=\"text-align: right;\">\n",
       "      <th></th>\n",
       "      <th>payment_id</th>\n",
       "      <th>customer_id</th>\n",
       "      <th>staff_id</th>\n",
       "      <th>rental_id</th>\n",
       "      <th>amount</th>\n",
       "      <th>payment_date</th>\n",
       "      <th>store_id</th>\n",
       "      <th>first_name</th>\n",
       "      <th>last_name</th>\n",
       "      <th>email</th>\n",
       "      <th>...</th>\n",
       "      <th>address</th>\n",
       "      <th>address2</th>\n",
       "      <th>district</th>\n",
       "      <th>city_id</th>\n",
       "      <th>postal_code</th>\n",
       "      <th>phone</th>\n",
       "      <th>last_update_y</th>\n",
       "      <th>city</th>\n",
       "      <th>country_id</th>\n",
       "      <th>last_update</th>\n",
       "    </tr>\n",
       "  </thead>\n",
       "  <tbody>\n",
       "    <tr>\n",
       "      <th>0</th>\n",
       "      <td>16050</td>\n",
       "      <td>269</td>\n",
       "      <td>2</td>\n",
       "      <td>7</td>\n",
       "      <td>1.99</td>\n",
       "      <td>2020-01-24 22:40:19.996577+01</td>\n",
       "      <td>1</td>\n",
       "      <td>CASSANDRA</td>\n",
       "      <td>WALTERS</td>\n",
       "      <td>CASSANDRA.WALTERS@sakilacustomer.org</td>\n",
       "      <td>...</td>\n",
       "      <td>920 Kumbakonam Loop</td>\n",
       "      <td>NaN</td>\n",
       "      <td>California</td>\n",
       "      <td>446</td>\n",
       "      <td>75090.0</td>\n",
       "      <td>6.850107e+11</td>\n",
       "      <td>2020-02-15 10:45:30+01</td>\n",
       "      <td>Salinas</td>\n",
       "      <td>103</td>\n",
       "      <td>2020-02-15 10:45:25+01</td>\n",
       "    </tr>\n",
       "    <tr>\n",
       "      <th>1</th>\n",
       "      <td>16051</td>\n",
       "      <td>269</td>\n",
       "      <td>1</td>\n",
       "      <td>98</td>\n",
       "      <td>0.99</td>\n",
       "      <td>2020-01-25 16:16:50.996577+01</td>\n",
       "      <td>1</td>\n",
       "      <td>CASSANDRA</td>\n",
       "      <td>WALTERS</td>\n",
       "      <td>CASSANDRA.WALTERS@sakilacustomer.org</td>\n",
       "      <td>...</td>\n",
       "      <td>920 Kumbakonam Loop</td>\n",
       "      <td>NaN</td>\n",
       "      <td>California</td>\n",
       "      <td>446</td>\n",
       "      <td>75090.0</td>\n",
       "      <td>6.850107e+11</td>\n",
       "      <td>2020-02-15 10:45:30+01</td>\n",
       "      <td>Salinas</td>\n",
       "      <td>103</td>\n",
       "      <td>2020-02-15 10:45:25+01</td>\n",
       "    </tr>\n",
       "    <tr>\n",
       "      <th>2</th>\n",
       "      <td>16052</td>\n",
       "      <td>269</td>\n",
       "      <td>2</td>\n",
       "      <td>678</td>\n",
       "      <td>6.99</td>\n",
       "      <td>2020-01-28 22:44:14.996577+01</td>\n",
       "      <td>1</td>\n",
       "      <td>CASSANDRA</td>\n",
       "      <td>WALTERS</td>\n",
       "      <td>CASSANDRA.WALTERS@sakilacustomer.org</td>\n",
       "      <td>...</td>\n",
       "      <td>920 Kumbakonam Loop</td>\n",
       "      <td>NaN</td>\n",
       "      <td>California</td>\n",
       "      <td>446</td>\n",
       "      <td>75090.0</td>\n",
       "      <td>6.850107e+11</td>\n",
       "      <td>2020-02-15 10:45:30+01</td>\n",
       "      <td>Salinas</td>\n",
       "      <td>103</td>\n",
       "      <td>2020-02-15 10:45:25+01</td>\n",
       "    </tr>\n",
       "    <tr>\n",
       "      <th>3</th>\n",
       "      <td>16053</td>\n",
       "      <td>269</td>\n",
       "      <td>2</td>\n",
       "      <td>703</td>\n",
       "      <td>0.99</td>\n",
       "      <td>2020-01-29 01:58:02.996577+01</td>\n",
       "      <td>1</td>\n",
       "      <td>CASSANDRA</td>\n",
       "      <td>WALTERS</td>\n",
       "      <td>CASSANDRA.WALTERS@sakilacustomer.org</td>\n",
       "      <td>...</td>\n",
       "      <td>920 Kumbakonam Loop</td>\n",
       "      <td>NaN</td>\n",
       "      <td>California</td>\n",
       "      <td>446</td>\n",
       "      <td>75090.0</td>\n",
       "      <td>6.850107e+11</td>\n",
       "      <td>2020-02-15 10:45:30+01</td>\n",
       "      <td>Salinas</td>\n",
       "      <td>103</td>\n",
       "      <td>2020-02-15 10:45:25+01</td>\n",
       "    </tr>\n",
       "    <tr>\n",
       "      <th>4</th>\n",
       "      <td>16054</td>\n",
       "      <td>269</td>\n",
       "      <td>1</td>\n",
       "      <td>750</td>\n",
       "      <td>4.99</td>\n",
       "      <td>2020-01-29 09:10:06.996577+01</td>\n",
       "      <td>1</td>\n",
       "      <td>CASSANDRA</td>\n",
       "      <td>WALTERS</td>\n",
       "      <td>CASSANDRA.WALTERS@sakilacustomer.org</td>\n",
       "      <td>...</td>\n",
       "      <td>920 Kumbakonam Loop</td>\n",
       "      <td>NaN</td>\n",
       "      <td>California</td>\n",
       "      <td>446</td>\n",
       "      <td>75090.0</td>\n",
       "      <td>6.850107e+11</td>\n",
       "      <td>2020-02-15 10:45:30+01</td>\n",
       "      <td>Salinas</td>\n",
       "      <td>103</td>\n",
       "      <td>2020-02-15 10:45:25+01</td>\n",
       "    </tr>\n",
       "    <tr>\n",
       "      <th>...</th>\n",
       "      <td>...</td>\n",
       "      <td>...</td>\n",
       "      <td>...</td>\n",
       "      <td>...</td>\n",
       "      <td>...</td>\n",
       "      <td>...</td>\n",
       "      <td>...</td>\n",
       "      <td>...</td>\n",
       "      <td>...</td>\n",
       "      <td>...</td>\n",
       "      <td>...</td>\n",
       "      <td>...</td>\n",
       "      <td>...</td>\n",
       "      <td>...</td>\n",
       "      <td>...</td>\n",
       "      <td>...</td>\n",
       "      <td>...</td>\n",
       "      <td>...</td>\n",
       "      <td>...</td>\n",
       "      <td>...</td>\n",
       "      <td>...</td>\n",
       "    </tr>\n",
       "    <tr>\n",
       "      <th>16042</th>\n",
       "      <td>31188</td>\n",
       "      <td>195</td>\n",
       "      <td>2</td>\n",
       "      <td>8280</td>\n",
       "      <td>4.99</td>\n",
       "      <td>2020-04-29 01:14:17.996577+02</td>\n",
       "      <td>1</td>\n",
       "      <td>VANESSA</td>\n",
       "      <td>SIMS</td>\n",
       "      <td>VANESSA.SIMS@sakilacustomer.org</td>\n",
       "      <td>...</td>\n",
       "      <td>1792 Valle de la Pascua Place</td>\n",
       "      <td>NaN</td>\n",
       "      <td>Nordrhein-Westfalen</td>\n",
       "      <td>477</td>\n",
       "      <td>15540.0</td>\n",
       "      <td>4.194196e+11</td>\n",
       "      <td>2020-02-15 10:45:30+01</td>\n",
       "      <td>Siegen</td>\n",
       "      <td>38</td>\n",
       "      <td>2020-02-15 10:45:25+01</td>\n",
       "    </tr>\n",
       "    <tr>\n",
       "      <th>16043</th>\n",
       "      <td>31189</td>\n",
       "      <td>195</td>\n",
       "      <td>2</td>\n",
       "      <td>8479</td>\n",
       "      <td>0.99</td>\n",
       "      <td>2020-04-29 08:10:30.996577+02</td>\n",
       "      <td>1</td>\n",
       "      <td>VANESSA</td>\n",
       "      <td>SIMS</td>\n",
       "      <td>VANESSA.SIMS@sakilacustomer.org</td>\n",
       "      <td>...</td>\n",
       "      <td>1792 Valle de la Pascua Place</td>\n",
       "      <td>NaN</td>\n",
       "      <td>Nordrhein-Westfalen</td>\n",
       "      <td>477</td>\n",
       "      <td>15540.0</td>\n",
       "      <td>4.194196e+11</td>\n",
       "      <td>2020-02-15 10:45:30+01</td>\n",
       "      <td>Siegen</td>\n",
       "      <td>38</td>\n",
       "      <td>2020-02-15 10:45:25+01</td>\n",
       "    </tr>\n",
       "    <tr>\n",
       "      <th>16044</th>\n",
       "      <td>31190</td>\n",
       "      <td>195</td>\n",
       "      <td>2</td>\n",
       "      <td>9188</td>\n",
       "      <td>6.99</td>\n",
       "      <td>2020-04-30 11:48:20.996577+02</td>\n",
       "      <td>1</td>\n",
       "      <td>VANESSA</td>\n",
       "      <td>SIMS</td>\n",
       "      <td>VANESSA.SIMS@sakilacustomer.org</td>\n",
       "      <td>...</td>\n",
       "      <td>1792 Valle de la Pascua Place</td>\n",
       "      <td>NaN</td>\n",
       "      <td>Nordrhein-Westfalen</td>\n",
       "      <td>477</td>\n",
       "      <td>15540.0</td>\n",
       "      <td>4.194196e+11</td>\n",
       "      <td>2020-02-15 10:45:30+01</td>\n",
       "      <td>Siegen</td>\n",
       "      <td>38</td>\n",
       "      <td>2020-02-15 10:45:25+01</td>\n",
       "    </tr>\n",
       "    <tr>\n",
       "      <th>16045</th>\n",
       "      <td>31191</td>\n",
       "      <td>195</td>\n",
       "      <td>1</td>\n",
       "      <td>9870</td>\n",
       "      <td>5.99</td>\n",
       "      <td>2020-04-30 12:51:17.996577+02</td>\n",
       "      <td>1</td>\n",
       "      <td>VANESSA</td>\n",
       "      <td>SIMS</td>\n",
       "      <td>VANESSA.SIMS@sakilacustomer.org</td>\n",
       "      <td>...</td>\n",
       "      <td>1792 Valle de la Pascua Place</td>\n",
       "      <td>NaN</td>\n",
       "      <td>Nordrhein-Westfalen</td>\n",
       "      <td>477</td>\n",
       "      <td>15540.0</td>\n",
       "      <td>4.194196e+11</td>\n",
       "      <td>2020-02-15 10:45:30+01</td>\n",
       "      <td>Siegen</td>\n",
       "      <td>38</td>\n",
       "      <td>2020-02-15 10:45:25+01</td>\n",
       "    </tr>\n",
       "    <tr>\n",
       "      <th>16046</th>\n",
       "      <td>31192</td>\n",
       "      <td>195</td>\n",
       "      <td>1</td>\n",
       "      <td>9994</td>\n",
       "      <td>4.99</td>\n",
       "      <td>2020-04-30 16:58:57.996577+02</td>\n",
       "      <td>1</td>\n",
       "      <td>VANESSA</td>\n",
       "      <td>SIMS</td>\n",
       "      <td>VANESSA.SIMS@sakilacustomer.org</td>\n",
       "      <td>...</td>\n",
       "      <td>1792 Valle de la Pascua Place</td>\n",
       "      <td>NaN</td>\n",
       "      <td>Nordrhein-Westfalen</td>\n",
       "      <td>477</td>\n",
       "      <td>15540.0</td>\n",
       "      <td>4.194196e+11</td>\n",
       "      <td>2020-02-15 10:45:30+01</td>\n",
       "      <td>Siegen</td>\n",
       "      <td>38</td>\n",
       "      <td>2020-02-15 10:45:25+01</td>\n",
       "    </tr>\n",
       "  </tbody>\n",
       "</table>\n",
       "<p>16047 rows × 26 columns</p>\n",
       "</div>"
      ],
      "text/plain": [
       "       payment_id  customer_id  staff_id  rental_id  amount  \\\n",
       "0           16050          269         2          7    1.99   \n",
       "1           16051          269         1         98    0.99   \n",
       "2           16052          269         2        678    6.99   \n",
       "3           16053          269         2        703    0.99   \n",
       "4           16054          269         1        750    4.99   \n",
       "...           ...          ...       ...        ...     ...   \n",
       "16042       31188          195         2       8280    4.99   \n",
       "16043       31189          195         2       8479    0.99   \n",
       "16044       31190          195         2       9188    6.99   \n",
       "16045       31191          195         1       9870    5.99   \n",
       "16046       31192          195         1       9994    4.99   \n",
       "\n",
       "                        payment_date  store_id first_name last_name  \\\n",
       "0      2020-01-24 22:40:19.996577+01         1  CASSANDRA   WALTERS   \n",
       "1      2020-01-25 16:16:50.996577+01         1  CASSANDRA   WALTERS   \n",
       "2      2020-01-28 22:44:14.996577+01         1  CASSANDRA   WALTERS   \n",
       "3      2020-01-29 01:58:02.996577+01         1  CASSANDRA   WALTERS   \n",
       "4      2020-01-29 09:10:06.996577+01         1  CASSANDRA   WALTERS   \n",
       "...                              ...       ...        ...       ...   \n",
       "16042  2020-04-29 01:14:17.996577+02         1    VANESSA      SIMS   \n",
       "16043  2020-04-29 08:10:30.996577+02         1    VANESSA      SIMS   \n",
       "16044  2020-04-30 11:48:20.996577+02         1    VANESSA      SIMS   \n",
       "16045  2020-04-30 12:51:17.996577+02         1    VANESSA      SIMS   \n",
       "16046  2020-04-30 16:58:57.996577+02         1    VANESSA      SIMS   \n",
       "\n",
       "                                      email  ...  \\\n",
       "0      CASSANDRA.WALTERS@sakilacustomer.org  ...   \n",
       "1      CASSANDRA.WALTERS@sakilacustomer.org  ...   \n",
       "2      CASSANDRA.WALTERS@sakilacustomer.org  ...   \n",
       "3      CASSANDRA.WALTERS@sakilacustomer.org  ...   \n",
       "4      CASSANDRA.WALTERS@sakilacustomer.org  ...   \n",
       "...                                     ...  ...   \n",
       "16042       VANESSA.SIMS@sakilacustomer.org  ...   \n",
       "16043       VANESSA.SIMS@sakilacustomer.org  ...   \n",
       "16044       VANESSA.SIMS@sakilacustomer.org  ...   \n",
       "16045       VANESSA.SIMS@sakilacustomer.org  ...   \n",
       "16046       VANESSA.SIMS@sakilacustomer.org  ...   \n",
       "\n",
       "                             address  address2             district city_id  \\\n",
       "0                920 Kumbakonam Loop       NaN           California     446   \n",
       "1                920 Kumbakonam Loop       NaN           California     446   \n",
       "2                920 Kumbakonam Loop       NaN           California     446   \n",
       "3                920 Kumbakonam Loop       NaN           California     446   \n",
       "4                920 Kumbakonam Loop       NaN           California     446   \n",
       "...                              ...       ...                  ...     ...   \n",
       "16042  1792 Valle de la Pascua Place       NaN  Nordrhein-Westfalen     477   \n",
       "16043  1792 Valle de la Pascua Place       NaN  Nordrhein-Westfalen     477   \n",
       "16044  1792 Valle de la Pascua Place       NaN  Nordrhein-Westfalen     477   \n",
       "16045  1792 Valle de la Pascua Place       NaN  Nordrhein-Westfalen     477   \n",
       "16046  1792 Valle de la Pascua Place       NaN  Nordrhein-Westfalen     477   \n",
       "\n",
       "       postal_code         phone           last_update_y     city country_id  \\\n",
       "0          75090.0  6.850107e+11  2020-02-15 10:45:30+01  Salinas        103   \n",
       "1          75090.0  6.850107e+11  2020-02-15 10:45:30+01  Salinas        103   \n",
       "2          75090.0  6.850107e+11  2020-02-15 10:45:30+01  Salinas        103   \n",
       "3          75090.0  6.850107e+11  2020-02-15 10:45:30+01  Salinas        103   \n",
       "4          75090.0  6.850107e+11  2020-02-15 10:45:30+01  Salinas        103   \n",
       "...            ...           ...                     ...      ...        ...   \n",
       "16042      15540.0  4.194196e+11  2020-02-15 10:45:30+01   Siegen         38   \n",
       "16043      15540.0  4.194196e+11  2020-02-15 10:45:30+01   Siegen         38   \n",
       "16044      15540.0  4.194196e+11  2020-02-15 10:45:30+01   Siegen         38   \n",
       "16045      15540.0  4.194196e+11  2020-02-15 10:45:30+01   Siegen         38   \n",
       "16046      15540.0  4.194196e+11  2020-02-15 10:45:30+01   Siegen         38   \n",
       "\n",
       "                  last_update  \n",
       "0      2020-02-15 10:45:25+01  \n",
       "1      2020-02-15 10:45:25+01  \n",
       "2      2020-02-15 10:45:25+01  \n",
       "3      2020-02-15 10:45:25+01  \n",
       "4      2020-02-15 10:45:25+01  \n",
       "...                       ...  \n",
       "16042  2020-02-15 10:45:25+01  \n",
       "16043  2020-02-15 10:45:25+01  \n",
       "16044  2020-02-15 10:45:25+01  \n",
       "16045  2020-02-15 10:45:25+01  \n",
       "16046  2020-02-15 10:45:25+01  \n",
       "\n",
       "[16047 rows x 26 columns]"
      ]
     },
     "execution_count": 88,
     "metadata": {},
     "output_type": "execute_result"
    }
   ],
   "source": [
    "customer_payment_merged=pd.merge(payment, customer,on='customer_id')\n",
    "customer_payment_merged=pd.merge(customer_payment_merged, address,on='address_id')\n",
    "customer_payment_merged=pd.merge(customer_payment_merged, city,on='city_id')\n",
    "customer_payment_merged"
   ]
  },
  {
   "cell_type": "code",
   "execution_count": 89,
   "id": "beba56ec-6f4e-46f9-8591-089246e0b84f",
   "metadata": {
    "tags": []
   },
   "outputs": [
    {
     "data": {
      "text/plain": [
       "city\n",
       "Cape Coral     221.55\n",
       "Saint-Denis    216.54\n",
       "Aurora         198.50\n",
       "Molodetno      195.58\n",
       "Apeldoorn      194.61\n",
       "                ...  \n",
       "Tete            58.82\n",
       "al-Qadarif      57.81\n",
       "Bydgoszcz       52.88\n",
       "Fuzhou          50.86\n",
       "Tallahassee     50.85\n",
       "Name: amount, Length: 597, dtype: float64"
      ]
     },
     "execution_count": 89,
     "metadata": {},
     "output_type": "execute_result"
    }
   ],
   "source": [
    "sales_overview=customer_payment_merged.groupby('city').sum('amount')\n",
    "sales_overview['amount'].sort_values(ascending=False)"
   ]
  },
  {
   "cell_type": "markdown",
   "id": "1777c655-d8ae-4cf2-a503-d75525fd8ba6",
   "metadata": {},
   "source": [
    "#### Task: Create an overview of the revenue (sum of amount) grouped by a column in the format \"country, city\". Question: Which country, city has the least sales?"
   ]
  },
  {
   "cell_type": "code",
   "execution_count": 90,
   "id": "2587292d-24e9-4380-9199-b3b4393651f3",
   "metadata": {
    "tags": []
   },
   "outputs": [],
   "source": [
    "customer_payment_merged=pd.merge(customer_payment_merged,country[['country','country_id']],on='country_id')\n"
   ]
  },
  {
   "cell_type": "code",
   "execution_count": 94,
   "id": "2d444c58-194f-4f34-9cbc-239664a6e6ff",
   "metadata": {
    "tags": []
   },
   "outputs": [
    {
     "data": {
      "text/plain": [
       "0        Salinas United States\n",
       "1        Salinas United States\n",
       "2        Salinas United States\n",
       "3        Salinas United States\n",
       "4        Salinas United States\n",
       "                 ...          \n",
       "16042        Kabul Afghanistan\n",
       "16043        Kabul Afghanistan\n",
       "16044        Kabul Afghanistan\n",
       "16045        Kabul Afghanistan\n",
       "16046        Kabul Afghanistan\n",
       "Name: city_country, Length: 16047, dtype: object"
      ]
     },
     "execution_count": 94,
     "metadata": {},
     "output_type": "execute_result"
    }
   ],
   "source": [
    "customer_payment_merged['city_country']=customer_payment_merged['city']+\" \"+customer_payment_merged['country']\n",
    "customer_payment_merged['city_country']"
   ]
  },
  {
   "cell_type": "code",
   "execution_count": 98,
   "id": "d52cbf09-d74b-451a-9085-c35781d1c7d8",
   "metadata": {
    "tags": []
   },
   "outputs": [],
   "source": [
    "country_overview=customer_payment_merged.groupby('city_country').sum('amount').sort_values('amount')"
   ]
  },
  {
   "cell_type": "code",
   "execution_count": 99,
   "id": "98e5f1d8-b0ab-40c9-883c-fbb68f2597ea",
   "metadata": {
    "tags": []
   },
   "outputs": [
    {
     "data": {
      "text/plain": [
       "city_country\n",
       "Tallahassee United States      50.85\n",
       "Fuzhou China                   50.86\n",
       "Bydgoszcz Poland               52.88\n",
       "al-Qadarif Sudan               57.81\n",
       "Tete Mozambique                58.82\n",
       "                               ...  \n",
       "Santa Brbara dOeste Brazil    194.61\n",
       "Molodetno Belarus             195.58\n",
       "Aurora United States          198.50\n",
       "Saint-Denis Runion            216.54\n",
       "Cape Coral United States      221.55\n",
       "Name: amount, Length: 597, dtype: float64"
      ]
     },
     "execution_count": 99,
     "metadata": {},
     "output_type": "execute_result"
    }
   ],
   "source": [
    "country_overview['amount']"
   ]
  },
  {
   "cell_type": "markdown",
   "id": "7dba62fe-fd49-42c8-8806-0b98a1bca7ee",
   "metadata": {},
   "source": [
    "#### Task: Create a list with the average of the sales amount each staff_id has per customer. Question: Which staff_id makes on average more revenue per customer?"
   ]
  },
  {
   "cell_type": "code",
   "execution_count": 108,
   "id": "85870995-67bb-4ef0-abde-3d801068b10d",
   "metadata": {
    "tags": []
   },
   "outputs": [
    {
     "name": "stdout",
     "output_type": "stream",
     "text": [
      "      staff_id  customer_id  total\n",
      "0            1            1  64.83\n",
      "1            1            2  60.85\n",
      "2            1            3  64.86\n",
      "3            1            4  49.88\n",
      "4            1            5  73.83\n",
      "...        ...          ...    ...\n",
      "1193         2          595  43.87\n",
      "1194         2          596  41.89\n",
      "1195         2          597  49.89\n",
      "1196         2          598  39.88\n",
      "1197         2          599  54.89\n",
      "\n",
      "[1198 rows x 3 columns]\n",
      "   staff_id  avg_amount\n",
      "0         1   55.907312\n",
      "1         2   56.632805\n"
     ]
    }
   ],
   "source": [
    "#Group by customer_id and staff_id in the payment DataFrame to calculate the sum of amount for each combination of customer_id and staff_id.\n",
    "sum_sales_staff=payment.groupby(['staff_id','customer_id'])['amount'].sum().reset_index(name='total')\n",
    "print(sum_sales_staff)\n",
    "#Group by staff_id to calculate the average of these sums (i.e., average revenue per customer per staff).\n",
    "avg_sales_staff=sum_sales_staff.groupby('staff_id')['total'].mean().reset_index(name='avg_amount')\n",
    "print(avg_sales_staff)"
   ]
  },
  {
   "cell_type": "markdown",
   "id": "57a55500-05d0-42ae-bad0-3f99dc8e9376",
   "metadata": {},
   "source": [
    "#### Task: Create a piece of code that shows average daily revenue of all Sundays. Question: What is the daily average revenue of all Sundays?"
   ]
  },
  {
   "cell_type": "code",
   "execution_count": 112,
   "id": "e6b3ed37-9f91-4fb6-9a73-65197bc00b69",
   "metadata": {
    "tags": []
   },
   "outputs": [],
   "source": [
    "# Step 1: Ensure 'payment_date' is a datetime object\n",
    "payment['payment_date'] = pd.to_datetime(payment['payment_date'],utc=True)\n",
    "\n",
    "# Step 2: Extract the day of the week (0 = Sunday, 6 = Saturday) and filter for Sundays\n",
    "payment['weekday'] = payment['payment_date'].dt.dayofweek\n",
    "sundays = payment[payment['weekday'] == 6]  # Note: Pandas uses 0=Monday, 6=Sunday\n",
    "\n",
    "# Step 3: Group by date to calculate total revenue for each Sunday\n",
    "sunday_revenue = sundays.groupby(sundays['payment_date'].dt.date)['amount'].sum().reset_index(name='total')\n",
    "\n",
    "# Step 4: Calculate the average daily revenue of all Sundays\n",
    "avg_sunday_revenue = sunday_revenue['total'].mean()"
   ]
  },
  {
   "cell_type": "code",
   "execution_count": 113,
   "id": "b3504498-1de1-4079-9466-ceb8b7ee6532",
   "metadata": {
    "tags": []
   },
   "outputs": [
    {
     "data": {
      "text/plain": [
       "1435.15"
      ]
     },
     "execution_count": 113,
     "metadata": {},
     "output_type": "execute_result"
    }
   ],
   "source": [
    "avg_sunday_revenue"
   ]
  },
  {
   "cell_type": "markdown",
   "id": "2f3c1d44-94bb-4ef6-9106-f0bef6894055",
   "metadata": {},
   "source": [
    "#### Task: Create a list of movies - with their length and their replacement cost - that are longer than the average length in each replacement cost group. Question: Which two movies are the shortest on that list and how long are they?"
   ]
  },
  {
   "cell_type": "code",
   "execution_count": 125,
   "id": "cedf261d-ca9d-4578-85d9-9131041b0b3d",
   "metadata": {
    "tags": []
   },
   "outputs": [
    {
     "data": {
      "text/html": [
       "<div>\n",
       "<style scoped>\n",
       "    .dataframe tbody tr th:only-of-type {\n",
       "        vertical-align: middle;\n",
       "    }\n",
       "\n",
       "    .dataframe tbody tr th {\n",
       "        vertical-align: top;\n",
       "    }\n",
       "\n",
       "    .dataframe thead th {\n",
       "        text-align: right;\n",
       "    }\n",
       "</style>\n",
       "<table border=\"1\" class=\"dataframe\">\n",
       "  <thead>\n",
       "    <tr style=\"text-align: right;\">\n",
       "      <th></th>\n",
       "      <th>title</th>\n",
       "      <th>length</th>\n",
       "      <th>avg_length</th>\n",
       "    </tr>\n",
       "  </thead>\n",
       "  <tbody>\n",
       "    <tr>\n",
       "      <th>409</th>\n",
       "      <td>CELEBRITY HORN</td>\n",
       "      <td>110</td>\n",
       "      <td>109.605263</td>\n",
       "    </tr>\n",
       "    <tr>\n",
       "      <th>79</th>\n",
       "      <td>SEATTLE EXPECATIONS</td>\n",
       "      <td>110</td>\n",
       "      <td>107.357143</td>\n",
       "    </tr>\n",
       "    <tr>\n",
       "      <th>543</th>\n",
       "      <td>WONDERLAND CHRISTMAS</td>\n",
       "      <td>111</td>\n",
       "      <td>107.440000</td>\n",
       "    </tr>\n",
       "    <tr>\n",
       "      <th>53</th>\n",
       "      <td>WIND PHANTOM</td>\n",
       "      <td>111</td>\n",
       "      <td>108.763636</td>\n",
       "    </tr>\n",
       "    <tr>\n",
       "      <th>29</th>\n",
       "      <td>SUIT WALLS</td>\n",
       "      <td>111</td>\n",
       "      <td>108.763636</td>\n",
       "    </tr>\n",
       "    <tr>\n",
       "      <th>...</th>\n",
       "      <td>...</td>\n",
       "      <td>...</td>\n",
       "      <td>...</td>\n",
       "    </tr>\n",
       "    <tr>\n",
       "      <th>880</th>\n",
       "      <td>POND SEATTLE</td>\n",
       "      <td>185</td>\n",
       "      <td>115.255814</td>\n",
       "    </tr>\n",
       "    <tr>\n",
       "      <th>960</th>\n",
       "      <td>CONTROL ANTHEM</td>\n",
       "      <td>185</td>\n",
       "      <td>112.487805</td>\n",
       "    </tr>\n",
       "    <tr>\n",
       "      <th>662</th>\n",
       "      <td>GANGS PRIDE</td>\n",
       "      <td>185</td>\n",
       "      <td>114.698113</td>\n",
       "    </tr>\n",
       "    <tr>\n",
       "      <th>675</th>\n",
       "      <td>SWEET BROTHERHOOD</td>\n",
       "      <td>185</td>\n",
       "      <td>114.698113</td>\n",
       "    </tr>\n",
       "    <tr>\n",
       "      <th>78</th>\n",
       "      <td>SATURN NAME</td>\n",
       "      <td>192</td>\n",
       "      <td>107.357143</td>\n",
       "    </tr>\n",
       "  </tbody>\n",
       "</table>\n",
       "<p>490 rows × 3 columns</p>\n",
       "</div>"
      ],
      "text/plain": [
       "                    title  length  avg_length\n",
       "409        CELEBRITY HORN     110  109.605263\n",
       "79    SEATTLE EXPECATIONS     110  107.357143\n",
       "543  WONDERLAND CHRISTMAS     111  107.440000\n",
       "53           WIND PHANTOM     111  108.763636\n",
       "29             SUIT WALLS     111  108.763636\n",
       "..                    ...     ...         ...\n",
       "880          POND SEATTLE     185  115.255814\n",
       "960        CONTROL ANTHEM     185  112.487805\n",
       "662           GANGS PRIDE     185  114.698113\n",
       "675     SWEET BROTHERHOOD     185  114.698113\n",
       "78            SATURN NAME     192  107.357143\n",
       "\n",
       "[490 rows x 3 columns]"
      ]
     },
     "execution_count": 125,
     "metadata": {},
     "output_type": "execute_result"
    }
   ],
   "source": [
    "#Find the average length in each replacement cost group\n",
    "cost_groups=film.groupby('replacement_cost')['length'].mean().reset_index(name='avg_length')\n",
    "\n",
    "#Filter the films with > replacement cost than the average\n",
    "film_cost_groups=pd.merge(film,cost_groups[['replacement_cost','avg_length']],on='replacement_cost')\n",
    "films_filtered=film_cost_groups[film_cost_groups['avg_length']<film_cost_groups['length']]\n",
    "\n",
    "#Sort by length\n",
    "films_filtered[['title','length','avg_length']].sort_values('length')"
   ]
  },
  {
   "cell_type": "markdown",
   "id": "a9b03845-188a-4de5-8623-a582778466a4",
   "metadata": {},
   "source": [
    "#### Task: Create a list that shows the \"average customer lifetime value\" grouped by the different districts.\n",
    "--Example: If there are two customers in \"District 1\" where one customer has a total (lifetime) spent of 1000 dollars and the second customer has a total spent of $2000 then the \"average customer lifetime spent\" in this district is 1500 dollars. So, first, you need to calculate the total per customer and then the average of these totals per district.\n",
    "--Question: Which district has the highest average customer lifetime value?\n"
   ]
  },
  {
   "cell_type": "code",
   "execution_count": 142,
   "id": "b53d33a0-57de-4ee4-aac2-55a746dc4e1d",
   "metadata": {
    "tags": []
   },
   "outputs": [
    {
     "data": {
      "text/html": [
       "<div>\n",
       "<style scoped>\n",
       "    .dataframe tbody tr th:only-of-type {\n",
       "        vertical-align: middle;\n",
       "    }\n",
       "\n",
       "    .dataframe tbody tr th {\n",
       "        vertical-align: top;\n",
       "    }\n",
       "\n",
       "    .dataframe thead th {\n",
       "        text-align: right;\n",
       "    }\n",
       "</style>\n",
       "<table border=\"1\" class=\"dataframe\">\n",
       "  <thead>\n",
       "    <tr style=\"text-align: right;\">\n",
       "      <th></th>\n",
       "      <th>district</th>\n",
       "      <th>avg_customer_spent</th>\n",
       "    </tr>\n",
       "  </thead>\n",
       "  <tbody>\n",
       "    <tr>\n",
       "      <th>278</th>\n",
       "      <td>Saint-Denis</td>\n",
       "      <td>216.54</td>\n",
       "    </tr>\n",
       "    <tr>\n",
       "      <th>200</th>\n",
       "      <td>Minsk</td>\n",
       "      <td>195.58</td>\n",
       "    </tr>\n",
       "    <tr>\n",
       "      <th>300</th>\n",
       "      <td>Skikda</td>\n",
       "      <td>173.63</td>\n",
       "    </tr>\n",
       "    <tr>\n",
       "      <th>159</th>\n",
       "      <td>Khartum</td>\n",
       "      <td>169.65</td>\n",
       "    </tr>\n",
       "    <tr>\n",
       "      <th>256</th>\n",
       "      <td>Pietari</td>\n",
       "      <td>162.62</td>\n",
       "    </tr>\n",
       "    <tr>\n",
       "      <th>...</th>\n",
       "      <td>...</td>\n",
       "      <td>...</td>\n",
       "    </tr>\n",
       "    <tr>\n",
       "      <th>26</th>\n",
       "      <td>Basel-Stadt</td>\n",
       "      <td>58.86</td>\n",
       "    </tr>\n",
       "    <tr>\n",
       "      <th>334</th>\n",
       "      <td>Tete</td>\n",
       "      <td>58.82</td>\n",
       "    </tr>\n",
       "    <tr>\n",
       "      <th>372</th>\n",
       "      <td>al-Qadarif</td>\n",
       "      <td>57.81</td>\n",
       "    </tr>\n",
       "    <tr>\n",
       "      <th>168</th>\n",
       "      <td>Kujawsko-Pomorskie</td>\n",
       "      <td>52.88</td>\n",
       "    </tr>\n",
       "    <tr>\n",
       "      <th>96</th>\n",
       "      <td>Fujian</td>\n",
       "      <td>50.86</td>\n",
       "    </tr>\n",
       "  </tbody>\n",
       "</table>\n",
       "<p>375 rows × 2 columns</p>\n",
       "</div>"
      ],
      "text/plain": [
       "               district  avg_customer_spent\n",
       "278         Saint-Denis              216.54\n",
       "200               Minsk              195.58\n",
       "300              Skikda              173.63\n",
       "159             Khartum              169.65\n",
       "256             Pietari              162.62\n",
       "..                  ...                 ...\n",
       "26          Basel-Stadt               58.86\n",
       "334                Tete               58.82\n",
       "372          al-Qadarif               57.81\n",
       "168  Kujawsko-Pomorskie               52.88\n",
       "96               Fujian               50.86\n",
       "\n",
       "[375 rows x 2 columns]"
      ]
     },
     "execution_count": 142,
     "metadata": {},
     "output_type": "execute_result"
    }
   ],
   "source": [
    "#Merge payment, customer, address\n",
    "pay_cus_ad=pd.merge(payment,customer,on='customer_id')\n",
    "pay_cus_ad=pd.merge(pay_cus_ad,address,on='address_id')\n",
    "\n",
    "#Calculate the total per customer\n",
    "total_customer=pay_cus_ad.groupby(['customer_id','district'])['amount'].sum().reset_index(name='total')\n",
    "total_customer\n",
    "\n",
    "#Find the average from these totals per district\n",
    "avg_value_per_district=total_customer.groupby('district')['total'].mean().reset_index(name='avg_customer_spent')\n",
    "avg_value_per_district.sort_values('avg_customer_spent', ascending=False)"
   ]
  },
  {
   "cell_type": "markdown",
   "id": "b3d9326b-9912-4c68-a605-ef056f196004",
   "metadata": {},
   "source": []
  }
 ],
 "metadata": {
  "kernelspec": {
   "display_name": "Python 3 (ipykernel)",
   "language": "python",
   "name": "python3"
  },
  "language_info": {
   "codemirror_mode": {
    "name": "ipython",
    "version": 3
   },
   "file_extension": ".py",
   "mimetype": "text/x-python",
   "name": "python",
   "nbconvert_exporter": "python",
   "pygments_lexer": "ipython3",
   "version": "3.11.5"
  }
 },
 "nbformat": 4,
 "nbformat_minor": 5
}
